{
 "cells": [
  {
   "cell_type": "code",
   "execution_count": 11,
   "metadata": {},
   "outputs": [],
   "source": [
    "grid = [ [ 1,0,1,0,0 ], [ 0,0,0,0,1 ], [ 1,0,1,1,0 ], [ 0,0,0,0,0 ], [ 0,1,0,1,0 ] ]\n",
    "#grid = [[0,0,0,1,0],[0,0,1,1,0],[0,1,0,0,0],[0,1,0,0,0],[0,0,0,0,1],[0,0,0,0,1],[0,1,1,0,0],[0,0,0,0,0],[0,0,1,0,0]]\n",
    "def distance(d,s):\n",
    "    #calculate distance between two posiitons \n",
    "    return d[0] - s[0] + d[1] - s[1]"
   ]
  },
  {
   "cell_type": "code",
   "execution_count": 12,
   "metadata": {},
   "outputs": [
    {
     "name": "stdout",
     "output_type": "stream",
     "text": [
      "[[0, 1, 2, 3, 4], [5, 6, 7, 8, 9], [10, 11, 12, 13, 14], [15, 16, 17, 18, 19], [20, 21, 22, 23, 24], [25, 26, 27, 28, 29], [30, 31, 32, 33, 34], [35, 36, 37, 38, 39], [40, 41, 42, 43, 44]] \n",
      " Numbers of nodes generated: 45\n"
     ]
    }
   ],
   "source": [
    "def grid2node(grid):\n",
    "    # convert grid map to node\n",
    "    grid_to_node = [[i*len(grid[0])+j for j in range(0,len(grid[0]))] for i in range(len(grid))]\n",
    "    nb_nodes = len(grid)*len(grid[0])\n",
    "    return grid_to_node, nb_nodes\n",
    "\n",
    "grid_to_node,nb_nodes = grid2node(grid)\n",
    "print(grid_to_node,'\\n Numbers of nodes generated:', nb_nodes)\n",
    "#print(list(zip(*grid_to_node[1:3]))[1:3])"
   ]
  },
  {
   "cell_type": "code",
   "execution_count": 13,
   "metadata": {},
   "outputs": [
    {
     "name": "stdout",
     "output_type": "stream",
     "text": [
      "Index of node 20: [4, 0]\n"
     ]
    }
   ],
   "source": [
    "import math\n",
    "def node2grid(grid, node):\n",
    "    #convert a node to a 2d grid index  \n",
    "    line = len(grid[0])\n",
    "    if (node+1)%line == 0:\n",
    "        j = line - 1\n",
    "        i = math.floor((node+1)/line) - 1\n",
    "    else:\n",
    "        j = (node+1)%line - 1\n",
    "        i = math.floor((node+1)/line)\n",
    "    return [i,j]\n",
    "\n",
    "\n",
    "print(\"Index of node 20:\", node2grid(grid, 20))\n",
    "    "
   ]
  },
  {
   "cell_type": "code",
   "execution_count": 14,
   "metadata": {},
   "outputs": [
    {
     "name": "stdout",
     "output_type": "stream",
     "text": [
      "Before being flattened:\n",
      " [[0, 1, 2, 3, 4], [5, 6, 7, 8, 9], [10, 11, 12, 13, 14], [15, 16, 17, 18, 19], [20, 21, 22, 23, 24], [25, 26, 27, 28, 29], [30, 31, 32, 33, 34], [35, 36, 37, 38, 39], [40, 41, 42, 43, 44]] \n",
      "After being flattened:\n",
      " [0, 1, 2, 3, 4, 5, 6, 7, 8, 9, 10, 11, 12, 13, 14, 15, 16, 17, 18, 19, 20, 21, 22, 23, 24, 25, 26, 27, 28, 29, 30, 31, 32, 33, 34, 35, 36, 37, 38, 39, 40, 41, 42, 43, 44]\n"
     ]
    }
   ],
   "source": [
    "def flatten(List):\n",
    "    # flatten a 2d list\n",
    "    return [List[i][j] for i in range(len(List)) for j in range(len(List[0]))]\n",
    "\n",
    "print(\"Before being flattened:\\n\",grid_to_node, \"\\nAfter being flattened:\\n\", flatten(grid_to_node))"
   ]
  },
  {
   "cell_type": "code",
   "execution_count": 15,
   "metadata": {},
   "outputs": [
    {
     "name": "stdout",
     "output_type": "stream",
     "text": [
      "Index of node 9:  [1, 4]\n"
     ]
    }
   ],
   "source": [
    "def findIndex(L,e):\n",
    "    # find the index of a matrix 2D\n",
    "    for l in L:\n",
    "        for i in range(len(l)):\n",
    "            if l[i] == e:\n",
    "                return [L.index(l), i]\n",
    "                    \n",
    "print(\"Index of node 9: \", findIndex(grid_to_node,9))"
   ]
  },
  {
   "cell_type": "code",
   "execution_count": 16,
   "metadata": {},
   "outputs": [
    {
     "name": "stdout",
     "output_type": "stream",
     "text": [
      "Nodelist is : [[5, 1], [0, 6, 2], [1], [[]], [9], [0, 10, 6], [5, 1], [[]], [[]], [4, 14], [5, 15], [[]], [17, 13], [12, 18, 14], [13, 9, 19], [10, 20], [[]], [12, 22, 18], [17, 13, 23, 19], [18, 14], [15, 25, 21], [20, 26, 22], [21, 17, 27, 23], [22, 18, 28], [[]], [20, 30, 26], [25, 21, 27], [26, 22, 28], [27, 23, 33], [[]], [25, 35], [[]], [[]], [28, 38, 34], [33, 39], [30, 40, 36], [35, 41, 37], [36, 38], [37, 33, 43, 39], [38, 34, 44], [35, 41], [40, 36], [[]], [38, 44], [43, 39]]\n"
     ]
    }
   ],
   "source": [
    "# Generating nodes list which contains the connections (neighbors and costs = 1)\n",
    "# nodeList = [[neighbors of node 0],[neighbors of node 1], ...]\n",
    "def nodeList(grid, grid_to_node):\n",
    "    nodeList = []\n",
    "    for i in range(len(grid_to_node)):\n",
    "        for j in range(len(grid_to_node[0])):\n",
    "            if grid[i][j] == 1: # if it's obstacle\n",
    "                [neigh] = [[]];\n",
    "                nodeList.append([neigh])\n",
    "            else: # if it's a passage\n",
    "                nodei = grid_to_node[i][j] # current node\n",
    "                top, bottom, left, right = -1,1,-1,1 # the edge\n",
    "                if i == 0:\n",
    "                    top = 0\n",
    "                if i == len(grid_to_node) - 1:\n",
    "                    bottom = 0\n",
    "                if j == 0:\n",
    "                    left = 0\n",
    "                if j == len(grid_to_node[0]) - 1:\n",
    "                    right = 0\n",
    "\n",
    "                neigh = list(zip(*grid_to_node[i+top: i+bottom+1]))[j+left:j+right+1] # all neighbors around \n",
    "                neigh = flatten(neigh)\n",
    "\n",
    "                neighs = []\n",
    "                for ne in neigh: # check whether the links exist\n",
    "                    ni = findIndex(grid_to_node, ne) # grid index of the child node\n",
    "                    if ni[0] != i and ni[1] != j: #the child node should be in same colune or same line\n",
    "                        continue\n",
    "                    else:\n",
    "                        if ne != nodei and grid[ni[0]][ni[1]] != 1: #the child node should not be itself and value 1(obstacle)\n",
    "                            neighs.append(ne)\n",
    "                nodeList.append(neighs)\n",
    "    return nodeList\n",
    "\n",
    "node_list = nodeList(grid, grid_to_node)\n",
    "print(\"Nodelist is :\",node_list)"
   ]
  },
  {
   "cell_type": "code",
   "execution_count": 18,
   "metadata": {},
   "outputs": [],
   "source": [
    "def myPathPlanning(grid, start, stop): \n",
    "    # A-star algorithme\n",
    "    \n",
    "    grid_to_node,nb_nodes = grid2node(grid) # convert grid to node\n",
    "    node_list = nodeList(grid, grid_to_node) # create nodelist which contains connections\n",
    "    \n",
    "    s = grid_to_node[start[0]][start[1]] # start node\n",
    "    d = grid_to_node[stop[0]][stop[1]] # stop node\n",
    "    print(\"Start node:\",s,\"Start position: \",start, \"\\nStop node:\",d, \"Stop position: \", stop)\n",
    "    bool_g = 1 # bool to see if path is found\n",
    "    \n",
    "    opennodes = [[-1, s]] \n",
    "    closed = []\n",
    "    chemin = []\n",
    "    \n",
    "    fnl = [distance(stop, start)] #heuristique\n",
    "    \n",
    "    nbest = -1\n",
    "    while True:\n",
    "        if not opennodes:\n",
    "            bool_g = 0\n",
    "            print(\"Path planning failed!\")\n",
    "            break\n",
    "        \n",
    "        nbest = opennodes[0][1]\n",
    "        closed.append(opennodes[0])\n",
    "        opennodes.pop(0) # pop first element\n",
    "        \n",
    "        if nbest == d:\n",
    "            print(\"Path planning sucessful!\")\n",
    "            break\n",
    "        neighs = node_list[nbest]\n",
    "        #print(neighs)\n",
    "        \n",
    "        for i in range(len(neighs)):\n",
    "            if ([nbest,neighs[i]] not in closed) and ([nbest,neighs[i]] not in opennodes):\n",
    "                neigh_p = findIndex(grid_to_node, neighs[i])\n",
    "                cur_p = findIndex(grid_to_node, nbest)\n",
    "                \n",
    "                hn = distance(stop, neigh_p) # heuristic function. h(n) estimates the cost to reach goal from this neighbor.\n",
    "                gn = distance(neigh_p, start) #gn is the cost of the cheapest path from start to this neighbor currently known.\n",
    "                gx = distance(cur_p, start) # cost from start to current node\n",
    "                if gx + 1 < gn: # cost from current node to the neighbor is 1\n",
    "                    gn = gx + 1\n",
    "                fn = gn + hn \n",
    "                len_fl = len(fnl)\n",
    "                for f in range(len_fl):\n",
    "                    if fn < fnl[f]: # sort the opennodes set by fnl\n",
    "                        fnl.insert(f, fn)\n",
    "                        opennodes.insert(f, [nbest, neighs[i]])\n",
    "                        break\n",
    "                    opennodes.append([nbest, neighs[i]])\n",
    "        #print(opennodes)            \n",
    "        nbest = opennodes[0][1]\n",
    "    \n",
    "    #retrieve path from closed\n",
    "    print(\"\\nAll the node pairs(parent, child) traveled: \\n\", closed)\n",
    "    if bool_g:\n",
    "        end = d\n",
    "        chemin.append(end)\n",
    "        while True:\n",
    "            parent = closed[findIndex(closed, end)[0]][0]\n",
    "            if parent == -1:\n",
    "                break\n",
    "            chemin.insert(0, parent)\n",
    "            end = parent\n",
    "    \n",
    "    path = [] # convert node to grid index\n",
    "    for c in chemin: \n",
    "        path.append(node2grid(grid, c))\n",
    "            \n",
    "    return path\n",
    "\n"
   ]
  },
  {
   "cell_type": "code",
   "execution_count": 19,
   "metadata": {},
   "outputs": [
    {
     "name": "stdout",
     "output_type": "stream",
     "text": [
      "Start node: 20 Start position:  [4, 0] \n",
      "Stop node: 4 Stop position:  [0, 4]\n",
      "Path planning sucessful!\n",
      "\n",
      "All the node pairs(parent, child) traveled: \n",
      " [[-1, 20], [20, 15], [15, 20], [15, 16], [16, 15], [16, 11], [16, 17], [11, 6], [11, 16], [17, 16], [17, 22], [17, 18], [6, 5], [6, 1], [6, 11], [6, 7], [22, 17], [18, 17], [18, 19], [5, 6], [1, 6], [7, 6], [7, 8], [19, 18], [19, 14], [19, 24], [8, 7], [8, 3], [14, 19], [24, 19], [3, 8], [3, 4]]\n",
      "\n",
      "The final path found:\n",
      " [[4, 0], [3, 0], [3, 1], [2, 1], [1, 1], [1, 2], [1, 3], [0, 3], [0, 4]]\n"
     ]
    }
   ],
   "source": [

    "\n",
    "start = [4,0]\n",
    "stop = [0,4]\n",
    "path = myPathPlanning(grid, start, stop)   \n",
    "\n",
    "print(\"\\nThe final path found:\\n\",path)"
   ]
  }
 ],
 "metadata": {
  "kernelspec": {
   "display_name": "local-venv",
   "language": "python",
   "name": "local-venv"
  },
  "language_info": {
   "codemirror_mode": {
    "name": "ipython",
    "version": 3
   },
   "file_extension": ".py",
   "mimetype": "text/x-python",
   "name": "python",
   "nbconvert_exporter": "python",
   "pygments_lexer": "ipython3",
   "version": "3.7.3"
  }
 },
 "nbformat": 4,
 "nbformat_minor": 2
}
